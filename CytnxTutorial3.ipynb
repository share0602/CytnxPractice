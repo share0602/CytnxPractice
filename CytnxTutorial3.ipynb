{
 "cells": [
  {
   "cell_type": "markdown",
   "metadata": {},
   "source": [
    "# CytnxTutorial2\n",
    "This tutorial is aimed for those who are familiar with using python doing tensor network calculation. Most of the examples are based on: https://www.tensors.net/p-tutorial-3"
   ]
  },
  {
   "cell_type": "code",
   "execution_count": 1,
   "metadata": {},
   "outputs": [],
   "source": [
    "##### Python\n",
    "#\n",
    "import numpy as np\n",
    "from numpy import linalg as LA\n",
    "# ensure 'ncon.py' in working dir\n",
    "from ncon import ncon\n",
    "\n",
    "##### Cytnx\n",
    "import sys\n",
    "sys.path.append(\"/usr/local/\")\n",
    "import cytnx\n",
    "from cytnx import cytnx_extension as cyx"
   ]
  },
  {
   "cell_type": "code",
   "execution_count": 8,
   "metadata": {},
   "outputs": [
    {
     "name": "stdout",
     "output_type": "stream",
     "text": [
      "8.729643961766318e-16\n",
      "[0, 0, 0, 0, 0, 0, 0]\n"
     ]
    }
   ],
   "source": [
    "##### Ex.3.3(c): Creating a center of orthogonality with 'direct orthogonalization' \n",
    "# define tensors\n",
    "d = 3\n",
    "A = np.random.rand(d,d,d,d); B = np.random.rand(d,d,d) \n",
    "C = np.random.rand(d,d,d); D = np.random.rand(d,d,d) \n",
    "E = np.random.rand(d,d,d); F = np.random.rand(d,d,d) \n",
    "G = np.random.rand(d,d,d)\n",
    "# compute density matrices and their principle square roots\n",
    "rho1 = ncon([B,D,E,B,D,E],[[5,6,-2],[1,2,5],[3,4,6],[7,8,-1],[1,2,7],[3,4,8]])\n",
    "rho2 = ncon([F,F],[[1,2,-2],[1,2,-1]])\n",
    "rho3 = ncon([C,G,C,G],[[3,5,-2],[1,2,3],[4,5,-1],[1,2,4]])\n",
    "d1, u1 = LA.eigh(rho1); sq_d1 = np.sqrt(abs(d1))\n",
    "d2, u2 = LA.eigh(rho2); sq_d2 = np.sqrt(abs(d2))\n",
    "d3, u3 = LA.eigh(rho3); sq_d3 = np.sqrt(abs(d3))\n",
    "X1 = u1 @ np.diag(sq_d1) @ u1.T; X1inv = u1 @ np.diag(1/sq_d1) @ u1.T\n",
    "X2 = u2 @ np.diag(sq_d2) @ u2.T; X2inv = u2 @ np.diag(1/sq_d2) @ u2.T\n",
    "X3 = u3 @ np.diag(sq_d3) @ u3.T; X3inv = u3 @ np.diag(1/sq_d3) @ u3.T\n",
    "# execute gauge changes\n",
    "Aprime = ncon([A,X1,X2,X3],[[1,-2,2,3],[-1,1],[-3,2],[-4,3]])\n",
    "Bprime = ncon([B,X1inv],[[-1,-2,1],[1,-3]])\n",
    "Fprime = ncon([F,X2inv],[[-1,-2,1],[1,-3]])\n",
    "Cprime = ncon([C,X3inv],[[-1,-2,1],[1,-3]])\n",
    "# new network is formed from tensors: {Aprime,Bprime,Cprime,D,E,Fprime,G}\n",
    "\n",
    "# check both networks evaluate to the same tensor\n",
    "connectlist = [[3,-5,4,5],[1,2,3],[6,-10,5],[-1,-2,1],[-3,-4,2],[-6,-7,4],[-8,-9,6]]\n",
    "H0 = ncon([A,B,C,D,E,F,G],connectlist)\n",
    "H1 = ncon([Aprime,Bprime,Cprime,D,E,Fprime,G],connectlist)\n",
    "dH = LA.norm(H0 - H1) / LA.norm(H0)\n",
    "print(dH)\n",
    "\n",
    "########### Cytnx\n",
    "npTensor = [A,B,C,D,E,F,G]\n",
    "Tensor = [0]*len(npTensor)\n",
    "print(Tensor)\n",
    "for i in range(len(npTensor)):\n",
    "    Tensor[i] = cyx.CyTensor(cytnx.from_numpy(npTensor[i]), 1)\n",
    "    \n"
   ]
  },
  {
   "cell_type": "code",
   "execution_count": null,
   "metadata": {},
   "outputs": [],
   "source": []
  }
 ],
 "metadata": {
  "kernelspec": {
   "display_name": "Python 3",
   "language": "python",
   "name": "python3"
  },
  "language_info": {
   "codemirror_mode": {
    "name": "ipython",
    "version": 3
   },
   "file_extension": ".py",
   "mimetype": "text/x-python",
   "name": "python",
   "nbconvert_exporter": "python",
   "pygments_lexer": "ipython3",
   "version": "3.7.4"
  }
 },
 "nbformat": 4,
 "nbformat_minor": 2
}
