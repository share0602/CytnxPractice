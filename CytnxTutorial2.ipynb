{
 "cells": [
  {
   "cell_type": "markdown",
   "metadata": {},
   "source": [
    "# CytnxTutorial2\n",
    "This tutorial is aimed for those who are familiar with using python doing tensor network calculation. Most of the examples are based on: https://www.tensors.net/p-tutorial-2"
   ]
  },
  {
   "cell_type": "code",
   "execution_count": 2,
   "metadata": {},
   "outputs": [],
   "source": [
    "##### Python\n",
    "#\n",
    "import numpy as np\n",
    "from numpy import linalg as LA\n",
    "# ensure 'ncon.py' in working dir\n",
    "from ncon import ncon\n",
    "\n",
    "##### Cytnx\n",
    "import sys\n",
    "sys.path.append(\"/usr/local/\")\n",
    "import cytnx\n",
    "from cytnx import cytnx_extension as cyx"
   ]
  },
  {
   "cell_type": "code",
   "execution_count": 27,
   "metadata": {},
   "outputs": [
    {
     "name": "stdout",
     "output_type": "stream",
     "text": [
      "2.219351412865318e-15\n",
      "2.219351412865318e-15\n",
      "2.219351412865318e-15\n"
     ]
    }
   ],
   "source": [
    "##### Ex2.2(a): SVD of matrix\n",
    "d1 = 10; d2 = 6\n",
    "A = np.random.rand(d1,d2)\n",
    "[U,S,Vh] = LA.svd(A, full_matrices=False)\n",
    "# print(U.shape)\n",
    "# print(S.shape)\n",
    "# print(Vh.shape)\n",
    "# check result\n",
    "Af = U @ np.diag(S) @ Vh\n",
    "dA = LA.norm(Af-A) \n",
    "\n",
    "####### Using cytnx.Tensor\n",
    "Act = cytnx.from_numpy(A)\n",
    "[Sct, Uct, Vhct] = cytnx.linalg.Svd(Act)\n",
    "\n",
    "Sct = cytnx.linalg.Diag(Sct)\n",
    "Afct = cytnx.linalg.Matmul(cytnx.linalg.Matmul(Uct, Sct), Vhct)\n",
    "print(LA.norm(A - Afct))\n",
    "\n",
    "####### Using cyx.CyTensor1\n",
    "##[KHW] You can use Svd ! Svd_truncate is for TN application where we want to truncate the vBond dim.\n",
    "##[YHC] Thanks for informing. I do it at the next block!\n",
    "\n",
    "Act2 = cytnx.from_numpy(A)\n",
    "Act2 = cyx.CyTensor(Act2,1)\n",
    "Sct,Uct,Vhct = cyx.xlinalg.Svd_truncate(Act2, Act2.shape()[1])\n",
    "Act2 = cyx.Contract(cyx.Contract(Uct, Sct), Vhct)\n",
    "Act2 = Act2.get_block()\n",
    "print(LA.norm(A - Act2))\n",
    "\n",
    "####### Using cyx.CyTensor2\n",
    "Act3 = cytnx.from_numpy(A)\n",
    "Act3 = cyx.CyTensor(Act3,1)\n",
    "Sct,Uct,Vhct = cyx.xlinalg.Svd(Act3)\n",
    "Act3 = cyx.Contract(cyx.Contract(Uct, Sct), Vhct)\n",
    "Act3 = Act3.get_block()\n",
    "print(LA.norm(A - Act3))"
   ]
  },
  {
   "cell_type": "code",
   "execution_count": 4,
   "metadata": {},
   "outputs": [
    {
     "name": "stdout",
     "output_type": "stream",
     "text": [
      "2.896636536606458e-14\n",
      "1.1023026314066585e-13\n"
     ]
    }
   ],
   "source": [
    "##### Ex2.2(b): SVD of tensor\n",
    "d = 10; A = np.random.rand(d,d,d)\n",
    "Am = A.reshape(d**2,d)\n",
    "Um,Sm,Vh = LA.svd(Am,full_matrices=False)\n",
    "U = Um.reshape(d,d,d); S = np.diag(Sm)\n",
    "# check result\n",
    "Af = ncon([U,S,Vh],[[-1,-2,1],[1,2],[2,-3]])\n",
    "dA = LA.norm(Af-A)\n",
    "print(dA)\n",
    "\n",
    "##### Using Cytnx\n",
    "## First Method\n",
    "d = 10; Act = cytnx.from_numpy(A)\n",
    "Amct = Act.reshape(d**2,d)\n",
    "[Smct,Umct,Vmct] = cytnx.linalg.Svd(Amct)\n",
    "Uct = Umct.reshape(d,d,d); Sct = cytnx.linalg.Diag(Smct)\n",
    "Uct = cyx.CyTensor(Uct,1); Sct = cyx.CyTensor(Sct,1); Vhct = cyx.CyTensor(Vmct,1)\n",
    "Uct.set_labels([-1,-2,1])\n",
    "Sct.set_labels([1,2])\n",
    "Vhct.set_labels([2,-3])\n",
    "# Uct.print_diagram(); Sct.print_diagram(); Vhct.print_diagram()\n",
    "Afct = cyx.Contract(cyx.Contract(Uct,Sct),Vhct)\n",
    "# Afct.print_diagram()\n",
    "\n",
    "\n",
    "\n",
    "# print(type(Afct))\n",
    "Afct = Afct.get_block()\n",
    "dA = Afct - Act\n",
    "print(LA.norm(np.array(dA)))\n",
    "\n",
    "ASecondMethod = Amct.clone() # Will be used for the second method"
   ]
  },
  {
   "cell_type": "code",
   "execution_count": 5,
   "metadata": {},
   "outputs": [
    {
     "name": "stdout",
     "output_type": "stream",
     "text": [
      "1.1023026314066585e-13\n"
     ]
    }
   ],
   "source": [
    "###### Second Method\n",
    "Amct = cyx.CyTensor(ASecondMethod,1)\n",
    "# Amct.print_diagram()\n",
    "Sct,Uct,Vhct = cyx.xlinalg.Svd_truncate(Amct,d)\n",
    "\n",
    "# Sct.print_diagram(); Uct.print_diagram(), Vhct.print_diagram()\n",
    "Afct = cyx.Contract(cyx.Contract(Uct,Sct),Vhct)\n",
    "\n",
    "AfctPrime = Afct.clone()\n",
    "# Afct.print_diagram()\n",
    "# AfctPrime.print_diagram()\n",
    "\n",
    "Afct = Afct.get_block()\n",
    "Amct = Amct.get_block()\n",
    "dA = Amct - Afct\n",
    "print(LA.norm(dA))\n"
   ]
  },
  {
   "cell_type": "code",
   "execution_count": 6,
   "metadata": {},
   "outputs": [
    {
     "name": "stdout",
     "output_type": "stream",
     "text": [
      "[10, 10]\n",
      "[10, 10]\n",
      "5.321982350039921e-15\n",
      "\n"
     ]
    }
   ],
   "source": [
    "##### Ex2.2(c): spect. decomp. of matrix\n",
    "d = 10; A = np.random.rand(d,d)\n",
    "H = 0.5*(A + A.T) #random Hermitian\n",
    "D,U = LA.eigh(H)\n",
    "# check result\n",
    "Hf = U @ np.diag(D) @ U.T\n",
    "dH = LA.norm(Hf-H)\n",
    "\n",
    "########### Using Cytnx\n",
    "A_ct = cytnx.from_numpy(A)\n",
    "H_ct = 0.5*(A_ct +A_ct.permute(1,0))\n",
    "D_ct,U_ct = cytnx.linalg.Eigh(H_ct)\n",
    "D_ct = cytnx.linalg.Diag(D_ct)\n",
    "\n",
    "UD_ct = cytnx.linalg.Matmul(U_ct,D_ct)\n",
    "U_ct_T = U_ct.permute(1,0)\n",
    "U_ct_T = U_ct_T.contiguous()\n",
    "print(UD_ct.shape())\n",
    "print(U_ct_T.shape())\n",
    "Hf_ct = cytnx.linalg.Matmul(UD_ct, U_ct_T)\n",
    "\n",
    "dH_ct = np.array(Hf_ct - H_ct)\n",
    "\n",
    "print(LA.norm(dH_ct))\n",
    "print()"
   ]
  },
  {
   "cell_type": "code",
   "execution_count": 7,
   "metadata": {},
   "outputs": [
    {
     "name": "stdout",
     "output_type": "stream",
     "text": [
      "3.1579210332174407e-15\n"
     ]
    }
   ],
   "source": [
    "##### Ex2.2(d): spect. decomp. of tensor\n",
    "d = 2; A = np.random.rand(d,d,d,d)\n",
    "H = 0.5*(A + A.transpose(2,3,0,1))\n",
    "D,U = LA.eigh(H.reshape(d**2,d**2))\n",
    "U = U.reshape(d,d,d**2)\n",
    "# check result\n",
    "Hf = ncon([U,np.diag(D),U],\n",
    "           [[-1,-2,1],[1,2],[-3,-4,2]])\n",
    "dH = LA.norm(Hf-H)\n",
    "\n",
    "##### Using Cytnx \n",
    "d = 2; A_ct = cytnx.from_numpy(np.random.rand(d,d,d,d))\n",
    "# Atemp = A_ct.permute([2,3,0,1])\n",
    "\n",
    "H_ct = 0.5*(A_ct + A_ct.permute(2,3,0,1))\n",
    "D_ct,U_ct = cytnx.linalg.Eigh(H_ct.reshape(d**2,d**2))\n",
    "U_ct = U_ct.reshape(d,d,d**2)\n",
    "# check result\n",
    "U_ct = cyx.CyTensor(U_ct, 1)\n",
    "D_ct = cytnx.linalg.Diag(D_ct)\n",
    "D_ct = cyx.CyTensor(D_ct,1)\n",
    "D_ct.set_labels([1,2])\n",
    "# U_ct.print_diagram()\n",
    "U_ct.set_labels([-1,-2,1])\n",
    "U_ct_T = U_ct.clone()\n",
    "U_ct_T.set_labels([-3,-4,2])\n",
    "\n",
    "Hf_ct = cyx.Contract(cyx.Contract(U_ct, D_ct), U_ct_T)\n",
    "Hf_ct = Hf_ct.get_block()\n",
    "dH_ct = np.array(Hf_ct - H_ct)\n",
    "print(LA.norm(dH_ct))"
   ]
  },
  {
   "cell_type": "code",
   "execution_count": 25,
   "metadata": {},
   "outputs": [
    {
     "name": "stdout",
     "output_type": "stream",
     "text": [
      "0.0\n",
      "-2.842170943040401e-14\n"
     ]
    }
   ],
   "source": [
    "##### Ex2.3(c)\n",
    "d = 10; A = np.random.rand(10,10,10,10,10)\n",
    "# frobenus norm\n",
    "cvec = [k+1 for k in range(np.ndim(A))]\n",
    "frobA0 = np.sqrt(ncon([A,np.conj(A)],[cvec,cvec]))\n",
    "# equivalent frobenus norm\n",
    "frobA1 = np.sqrt(sum(abs(A.flatten())**2))\n",
    "# also equivalent frobenus norm\n",
    "frobA2 = LA.norm(A)\n",
    "print(frobA0 - frobA2)\n",
    "\n",
    "A_ct = cytnx.from_numpy(A)\n",
    "A_ct = cyx.CyTensor(A_ct,2)\n",
    "# A_ct.print_diagram()\n",
    "A_ct_T = A_ct.clone()\n",
    "# A_ct_T.print_diagram()\n",
    "\n",
    "frobA3 = cyx.Contract(A_ct, A_ct_T).item()**0.5\n",
    "# frobA3.print_diagram()\n",
    "print(frobA0-frobA3)"
   ]
  },
  {
   "cell_type": "code",
   "execution_count": 11,
   "metadata": {},
   "outputs": [
    {
     "name": "stdout",
     "output_type": "stream",
     "text": [
      "0.171696026716384\n",
      "0.17184568206787984\n"
     ]
    }
   ],
   "source": [
    "##### Ex2.4(a): SVD\n",
    "d = 10; A = np.random.rand(d,d,d,d,d)\n",
    "Um,S,Vhm = LA.svd(A.reshape(d**3,d**2),full_matrices=False)\n",
    "U = Um.reshape(d,d,d,d**2)\n",
    "Vh = Vhm.reshape(d**2,d,d)\n",
    "##### truncation\n",
    "chi = 80;\n",
    "Vhtilda = Vh[:chi,:,:]\n",
    "Stilda = np.diag(S[:chi])\n",
    "Utilda = U[:,:,:,:chi]\n",
    "B = ncon([Utilda,Stilda,Vhtilda],[[-1,-2,-3,1],[1,2],[2,-4,-5]])\n",
    "##### compare\n",
    "epsAB = LA.norm(A-B) / LA.norm(A)\n",
    "print(epsAB)\n",
    "\n",
    "######### Using Cytnx\n",
    "A_ct = cytnx.from_numpy(np.random.rand(d,d,d,d,d))\n",
    "A_ct = cyx.CyTensor(A_ct,3)\n",
    "# Act.print_diagram()\n",
    "S_ct,Um_ct,Vhm_ct = cyx.xlinalg.Svd_truncate(A_ct, chi)\n",
    "B_ct = cyx.Contract(cyx.Contract(Um_ct, S_ct), Vhm_ct)\n",
    "\n",
    "# A_ct.print_diagram() # Those two look the same in \n",
    "# B_ct.print_diagram() # the diagram\n",
    "A_ct = A_ct.get_block()\n",
    "# print(A_ct.shape()) # However, [1000, 100]\n",
    "B_ct = B_ct.get_block() # [10,10,10,10]\n",
    "# print(B_ct.shape())\n",
    "epsAB_ct = LA.norm(A_ct-B_ct) / LA.norm(A_ct)\n",
    "print(epsAB_ct)\n"
   ]
  },
  {
   "cell_type": "code",
   "execution_count": null,
   "metadata": {},
   "outputs": [],
   "source": []
  }
 ],
 "metadata": {
  "kernelspec": {
   "display_name": "Python 3",
   "language": "python",
   "name": "python3"
  },
  "language_info": {
   "codemirror_mode": {
    "name": "ipython",
    "version": 3
   },
   "file_extension": ".py",
   "mimetype": "text/x-python",
   "name": "python",
   "nbconvert_exporter": "python",
   "pygments_lexer": "ipython3",
   "version": "3.7.4"
  }
 },
 "nbformat": 4,
 "nbformat_minor": 2
}
