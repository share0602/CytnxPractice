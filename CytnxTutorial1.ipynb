{
 "cells": [
  {
   "cell_type": "code",
   "execution_count": 1,
   "metadata": {},
   "outputs": [],
   "source": [
    "import numpy as np\n",
    "import scipy as sp\n",
    "from scipy import linalg as LA # differ from cytnx.linalg\n",
    "import sys\n",
    "sys.path.append(\"/usr/local/\")\n",
    "import cytnx\n",
    "from cytnx import cytnx_extension as cyx"
   ]
  },
  {
   "cell_type": "code",
   "execution_count": 4,
   "metadata": {},
   "outputs": [
    {
     "name": "stdout",
     "output_type": "stream",
     "text": [
      "0.0\n",
      "0.0\n",
      "0.0\n",
      "0.0\n"
     ]
    }
   ],
   "source": [
    "##### Lets initialize some tensors in Python/Numpy\n",
    "import numpy as np\n",
    "### tensor with randomly generated entries, order 3, dims: 2-by-3-by-4\n",
    "A = np.arange(24).reshape(2,3,4)\n",
    "Act = cytnx.arange(24).reshape(2,3,4)\n",
    "print(LA.norm(A-Act.numpy()))\n",
    "\n",
    "\n",
    "### identity matrix, order 2, dims: 5-by-5 \n",
    "B = np.eye(5,5)\n",
    "Bct = cytnx.zeros([5,5])\n",
    "for i in range(5):\n",
    "    Bct[i,i] = 1\n",
    "    \n",
    "print(LA.norm(B- Bct.numpy()))\n",
    "\n",
    "### tensor of 1's, order 4, dims: 2-by-4-by-2-by-4\n",
    "C = np.ones((2,4,2,4))\n",
    "Cct = cytnx.ones([2,4,2,4])\n",
    "print(LA.norm(C-Cct.numpy()))\n",
    "\n",
    "### matrix of 0's, order 2, dims: 3-by-5\n",
    "D = np.zeros((3,5))\n",
    "Dct = cytnx.zeros([3,5])\n",
    "print(LA.norm(D-Dct.numpy()))\n",
    "\n",
    "\n"
   ]
  },
  {
   "cell_type": "code",
   "execution_count": 15,
   "metadata": {},
   "outputs": [
    {
     "name": "stdout",
     "output_type": "stream",
     "text": [
      "0.0\n"
     ]
    }
   ],
   "source": [
    "##### Ex.1.2(a):Transpose\n",
    "A = np.arange(2**3).reshape(2,2,2)\n",
    "Atilda = A.transpose(1,2,0)\n",
    "\n",
    "Act = cytnx.arange(2**3).reshape(2,2,2)\n",
    "Act = Act.permute(1,2,0)\n",
    "\n",
    "print(LA.norm(Atilda-Act.numpy())) # bad\n"
   ]
  },
  {
   "cell_type": "code",
   "execution_count": 17,
   "metadata": {},
   "outputs": [
    {
     "name": "stdout",
     "output_type": "stream",
     "text": [
      "0.0\n"
     ]
    }
   ],
   "source": [
    "##### Ex.1.2(b):Reshape\n",
    "B = np.arange(64).reshape(4,4,4)\n",
    "Btilda = B.reshape(4,4**2)\n",
    "Bct = cytnx.arange(64). reshape(4,4,4)\n",
    "BtildaCt = Bct.reshape(4,4**2)\n",
    "print(LA.norm(Btilda-BtildaCt.numpy()))"
   ]
  },
  {
   "cell_type": "code",
   "execution_count": 18,
   "metadata": {},
   "outputs": [
    {
     "name": "stdout",
     "output_type": "stream",
     "text": [
      "0.0\n"
     ]
    }
   ],
   "source": [
    "##### Ex.1.3(a): Binary Tensor Contraction\n",
    "d = 2\n",
    "A = np.arange(16).reshape(d,d,d,d)  \n",
    "B = np.arange(16).reshape(d,d,d,d)  \n",
    "\n",
    "Ap  = A.transpose(0,2,1,3);  Bp = B.transpose(0,3,1,2)\n",
    "App = Ap.reshape(d**2,d**2); Bpp = Bp.reshape(d**2,d**2)\n",
    "Cpp = App @ Bpp;             C   = Cpp.reshape(d,d,d,d)\n",
    "\n",
    "##### Using Cytnx\n",
    "Act = cytnx.arange(16).reshape(d,d,d,d)  \n",
    "Bct = cytnx.arange(16).reshape(d,d,d,d)\n",
    "ApCt  = Act.permute(0,2,1,3);  BpCt = Bct.permute(0,3,1,2)\n",
    "AppCt = ApCt.reshape(d**2,d**2); BppCt = BpCt.reshape(d**2,d**2)\n",
    "CppCt = cytnx.linalg.Matmul(AppCt, BppCt);             Cct   = CppCt.reshape(d,d,d,d)\n",
    "\n",
    "\n",
    "print(LA.norm(C - Cct.numpy()))"
   ]
  },
  {
   "cell_type": "code",
   "execution_count": 24,
   "metadata": {
    "scrolled": true
   },
   "outputs": [
    {
     "name": "stdout",
     "output_type": "stream",
     "text": [
      "-----------------------\n",
      "tensor Name : \n",
      "tensor Rank : 2\n",
      "block_form  : false\n",
      "is_diag     : False\n",
      "on device   : cytnx device: CPU\n",
      "            -------------      \n",
      "           /             \\     \n",
      "    -2 ____| 3         3 |____ -1 \n",
      "           \\             /     \n",
      "            -------------      \n",
      "<class 'cytnx.cytnx.cytnx_extension_c.CyTensor'>\n",
      "<class 'cytnx.cytnx.Tensor'>\n",
      "0.0\n"
     ]
    }
   ],
   "source": [
    "##### Ex.1.5(b): Contraction using ncon\n",
    "from ncon import ncon # Need ncon.py in the directory\n",
    "\n",
    "d = 3\n",
    "A = np.arange(27).reshape(d,d,d); B = np.arange(81).reshape(d,d,d,d)\n",
    "C = np.arange(27).reshape(d,d,d); D = np.arange(9).reshape(d,d)\n",
    "\n",
    "TensorArray = [A,B,C,D]\n",
    "\n",
    "IndexArray = [[1,-2,2],[-1,1,3,4],[5,3,2],[4,5]]\n",
    "\n",
    "E = ncon(TensorArray,IndexArray)\n",
    "\n",
    "######### Using Cytnx\n",
    "\n",
    "Act = cytnx.arange(27).reshape(d,d,d); Bct = cytnx.arange(81).reshape(d,d,d,d)\n",
    "Cct = cytnx.arange(27).reshape(d,d,d); Dct = cytnx.arange(9).reshape(d,d)\n",
    "Act = cyx.CyTensor(Act,2)\n",
    "Act.set_labels([1,-2,2])\n",
    "Bct = cyx.CyTensor(Bct,2)\n",
    "Bct.set_labels([-1,1,3,4])\n",
    "Cct = cyx.CyTensor(Cct,2)\n",
    "Cct.set_labels([5,3,2])\n",
    "Dct = cyx.CyTensor(Dct,2)\n",
    "Dct.set_labels([4,5])\n",
    "\n",
    "# Act.print_diagram()\n",
    "# Bct.print_diagram()\n",
    "# Cct.print_diagram()\n",
    "# Dct.print_diagram()\n",
    "# Result = cyx.Contract(A)\n",
    "\n",
    "Ect = cyx.Contract(cyx.Contract(Act,Bct),cyx.Contract(Cct,Dct))\n",
    "Ect.print_diagram()\n",
    "\n",
    "print(type(Ect))\n",
    "Ect = Ect.get_block()\n",
    "print(type(Ect))\n",
    "Ect = Ect.permute(1,0)\n",
    "print(LA.norm(E - Ect.numpy()))\n"
   ]
  },
  {
   "cell_type": "code",
   "execution_count": null,
   "metadata": {},
   "outputs": [],
   "source": []
  }
 ],
 "metadata": {
  "kernelspec": {
   "display_name": "Python 3",
   "language": "python",
   "name": "python3"
  },
  "language_info": {
   "codemirror_mode": {
    "name": "ipython",
    "version": 3
   },
   "file_extension": ".py",
   "mimetype": "text/x-python",
   "name": "python",
   "nbconvert_exporter": "python",
   "pygments_lexer": "ipython3",
   "version": "3.7.4"
  }
 },
 "nbformat": 4,
 "nbformat_minor": 2
}
