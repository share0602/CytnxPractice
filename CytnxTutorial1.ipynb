{
 "cells": [
  {
   "cell_type": "markdown",
   "metadata": {},
   "source": [
    "# Cytnx-Tutorial1\n",
    "This tutorial is aimed for those who are familiar with using python doing tensor network calculation. Most of the examples are based on: https://www.tensors.net/p-tutorial-1\n",
    "\n",
    "\n",
    "\n",
    "# Some Questions and Comments\n",
    "Q: I know that cytnx.Tensor() is easy to transform to np.array(); however, can we do the reverse opeartions, i.e. tranform np.array() to cytnx.Tensor()? Since constructing array using numpy is still more convenient than using Cytnx (e.g. we can construct 3x3 matrix by directy typing the element in numpy), if we can convert np.array() to cytnx.Tensor(), it will be great. \n",
    "\n",
    "A: cytnx.from_numpy()\n",
    "\n",
    "Q: We can transform cytnx.Tensor() to cyx.CyTensor(). However, can we do the reverse thing? Since only cytnx.Tensor() can compare with np.array(), it would be inconvenint if cyx.CyTensor() cannot transfrom to cytnx.Tensor() (See the last cell).\n",
    "\n",
    "A: cytnx.Tensor and cyx.CyTensor serves different purpose, Tensor is like numpy array equivalence, while CyTensor is specifically designed to handle Tensor network algorithm\n",
    "In the case where the system does not explicitly have symmetry enforced, Tensor and CyTensor seems to be redundant, but in the system with symmetries (as well as if we consider the Fermionic system, it will be completely different)\n",
    "\n",
    "Q: Easy way to do the same thing as np.random.rand()?\n",
    "\n",
    "A: cytnx.from_numpy(np.random.rand())\n",
    "\n",
    "\n",
    "Q: See the last cell: How to test whether two cyx.CyTensor are almost the same (don't need to be A == B)?\n",
    "\n",
    "A: Ahh... My answer is use get_block(), which can transform cyx.CyTensor to cytnx.Tensor(), and then we can do the subtraction operation on them."
   ]
  },
  {
   "cell_type": "code",
   "execution_count": 2,
   "metadata": {},
   "outputs": [],
   "source": [
    "import numpy as np\n",
    "import scipy as sp\n",
    "from scipy import linalg as LA # differ from cytnx.linalg\n",
    "import sys\n",
    "sys.path.append(\"/usr/local/\")\n",
    "import cytnx\n",
    "from cytnx import cytnx_extension as cyx"
   ]
  },
  {
   "cell_type": "markdown",
   "metadata": {},
   "source": [
    "- If we have a function cytnx.eye(), it will be more convenient to create identity matrix.\n",
    "\n",
    "A: cytnx.from_numpy(np.eye()) XDDD"
   ]
  },
  {
   "cell_type": "code",
   "execution_count": 3,
   "metadata": {},
   "outputs": [
    {
     "name": "stdout",
     "output_type": "stream",
     "text": [
      "0.0\n",
      "0.0\n",
      "0.0\n",
      "0.0\n"
     ]
    }
   ],
   "source": [
    "##### Lets initialize some tensors in Python/Numpy\n",
    "import numpy as np\n",
    "### tensor with randomly generated entries, order 3, dims: 2-by-3-by-4\n",
    "A = np.arange(24).reshape(2,3,4)\n",
    "Act = cytnx.arange(24).reshape(2,3,4)\n",
    "# Atest = cytnx.from_numpy(A)\n",
    "# print(Atest)\n",
    "# print(type(A-Act))\n",
    "print(LA.norm(A-Act))\n",
    "# Act = np.array(A)\n",
    "# print(Act)\n",
    "\n",
    "### identity matrix, order 2, dims: 5-by-5 \n",
    "B = np.eye(5,5)\n",
    "Bct = cytnx.zeros([5,5])\n",
    "for i in range(5):\n",
    "    Bct[i,i] = 1\n",
    "    \n",
    "print(LA.norm(B- Bct))\n",
    "### tensor of 1's, order 4, dims: 2-by-4-by-2-by-4\n",
    "C = np.ones((2,4,2,4))\n",
    "Cct = cytnx.ones([2,4,2,4])\n",
    "print(LA.norm(C-Cct))\n",
    "\n",
    "### matrix of 0's, order 2, dims: 3-by-5\n",
    "D = np.zeros((3,5))\n",
    "Dct = cytnx.zeros([3,5])\n",
    "print(LA.norm(D-Dct))\n",
    "\n",
    "\n"
   ]
  },
  {
   "cell_type": "markdown",
   "metadata": {},
   "source": [
    "# Bug: \n",
    "- Even though Atilda and AtildaCt look the same, (Atilda - AtildaCt) is not zero.\n",
    "- Using cytnx.from_numpy(Atilda) seems to have a bug (due to transpose()? ).\n"
   ]
  },
  {
   "cell_type": "code",
   "execution_count": 4,
   "metadata": {},
   "outputs": [
    {
     "name": "stdout",
     "output_type": "stream",
     "text": [
      "[[[0 4]\n",
      "  [1 5]]\n",
      "\n",
      " [[2 6]\n",
      "  [3 7]]]\n",
      "0.0\n"
     ]
    }
   ],
   "source": [
    "##### Ex.1.2(a):Transpose\n",
    "A = np.arange(2**3).reshape(2,2,2)\n",
    "Atilda = A.transpose(1,2,0)\n",
    "\n",
    "Act = cytnx.arange(2**3).reshape(2,2,2)\n",
    "AtildaCt = Act.permute(1,2,0)\n",
    "# print(A)\n",
    "# print(Act)\n",
    "# print(LA.norm(A-Act))\n",
    "\n",
    "\n",
    "# print('Atilda = ', Atilda)\n",
    "# print('AtildaCt = ', AtildaCt)\n",
    "\n",
    "# print('Atilda - AtildaCt = ', Atilda - AtildaCt)\n",
    "# print(LA.norm(Atilda - AtildaCt))\n",
    "\n",
    "#### Another way\n",
    "print(Atilda)\n",
    "AtildaClone = Atilda.copy()\n",
    "Atest = cytnx.from_numpy(AtildaClone) # good\n",
    "Atest2 = cytnx.from_numpy(Atilda) #bad\n",
    "\n",
    "# print(Atest)\n",
    "# print(Atilda)\n",
    "# print(Atest2)\n",
    "\n",
    "# print(Atest -AtildaCt)\n",
    "\n",
    "dA = LA.norm(Atest - AtildaCt)\n",
    "print(dA)\n",
    "\n",
    "\n",
    "\n"
   ]
  },
  {
   "cell_type": "code",
   "execution_count": 5,
   "metadata": {},
   "outputs": [
    {
     "name": "stdout",
     "output_type": "stream",
     "text": [
      "0.0\n"
     ]
    }
   ],
   "source": [
    "##### Ex.1.2(b):Reshape\n",
    "B = np.arange(64).reshape(4,4,4)\n",
    "Btilda = B.reshape(4,4**2)\n",
    "Bct = cytnx.arange(64). reshape(4,4,4)\n",
    "BtildaCt = Bct.reshape(4,4**2)\n",
    "print(LA.norm(Btilda-BtildaCt))"
   ]
  },
  {
   "cell_type": "code",
   "execution_count": 6,
   "metadata": {},
   "outputs": [
    {
     "name": "stdout",
     "output_type": "stream",
     "text": [
      "0.0\n"
     ]
    }
   ],
   "source": [
    "##### Ex.1.3(a): Binary Tensor Contraction\n",
    "d = 2\n",
    "A = np.arange(16).reshape(d,d,d,d)  \n",
    "B = np.arange(16).reshape(d,d,d,d)  \n",
    "\n",
    "Ap  = A.transpose(0,2,1,3);  Bp = B.transpose(0,3,1,2)\n",
    "App = Ap.reshape(d**2,d**2); Bpp = Bp.reshape(d**2,d**2)\n",
    "Cpp = App @ Bpp;             C   = Cpp.reshape(d,d,d,d)\n",
    "\n",
    "##### Using Cytnx\n",
    "Act = cytnx.arange(16).reshape(d,d,d,d)  \n",
    "Bct = cytnx.arange(16).reshape(d,d,d,d)\n",
    "ApCt  = Act.permute(0,2,1,3);  BpCt = Bct.permute(0,3,1,2)\n",
    "AppCt = ApCt.reshape(d**2,d**2); BppCt = BpCt.reshape(d**2,d**2)\n",
    "CppCt = cytnx.linalg.Matmul(AppCt, BppCt);             Cct   = CppCt.reshape(d,d,d,d)\n",
    "\n",
    "\n",
    "print(LA.norm(C - Cct))"
   ]
  },
  {
   "cell_type": "markdown",
   "metadata": {},
   "source": [
    "# Bug (Solved)\n",
    "\n",
    "Ect is not equal to np.array(Ect) after Ect.permute()\n"
   ]
  },
  {
   "cell_type": "code",
   "execution_count": 9,
   "metadata": {
    "scrolled": true
   },
   "outputs": [
    {
     "name": "stdout",
     "output_type": "stream",
     "text": [
      "-----------------------\n",
      "tensor Name : \n",
      "tensor Rank : 2\n",
      "block_form  : false\n",
      "is_diag     : False\n",
      "on device   : cytnx device: CPU\n",
      "            -------------      \n",
      "           /             \\     \n",
      "    -2 ____| 3         3 |____ -1 \n",
      "           \\             /     \n",
      "            -------------      \n",
      "[[ 2723544  3309660  3895776]\n",
      " [ 6546420  8274150 10001880]\n",
      " [10369296 13238640 16107984]]\n",
      "\n",
      "Total elem: 9\n",
      "type  : Double (Float64)\n",
      "cytnx device: CPU\n",
      "Shape : (3,3)\n",
      "[[2.72354e+06 6.54642e+06 1.03693e+07 ]\n",
      " [3.30966e+06 8.27415e+06 1.32386e+07 ]\n",
      " [3.89578e+06 1.00019e+07 1.61080e+07 ]]\n",
      "\n",
      "\n",
      "\n",
      "[[ 2723544.  6546420. 10369296.]\n",
      " [ 3309660.  8274150. 13238640.]\n",
      " [ 3895776. 10001880. 16107984.]]\n",
      "\n",
      "Total elem: 9\n",
      "type  : Double (Float64)\n",
      "cytnx device: CPU\n",
      "Shape : (3,3)\n",
      "[[2.72354e+06 3.30966e+06 3.89578e+06 ]\n",
      " [6.54642e+06 8.27415e+06 1.00019e+07 ]\n",
      " [1.03693e+07 1.32386e+07 1.61080e+07 ]]\n",
      "\n",
      "\n",
      "\n",
      "[[ 2723544.  3309660.  3895776.]\n",
      " [ 6546420.  8274150. 10001880.]\n",
      " [10369296. 13238640. 16107984.]]\n",
      "[[ 2723544  3309660  3895776]\n",
      " [ 6546420  8274150 10001880]\n",
      " [10369296 13238640 16107984]]\n",
      "11212465.543813279\n",
      "Ect[1,0].item() - E[1,0] =  0.0\n",
      "[[0. 0. 0.]\n",
      " [0. 0. 0.]\n",
      " [0. 0. 0.]]\n",
      "[[0. 0. 0.]\n",
      " [0. 0. 0.]\n",
      " [0. 0. 0.]]\n"
     ]
    }
   ],
   "source": [
    "##### Ex.1.5(b): Contraction using ncon\n",
    "from ncon import ncon # Need ncon.py in the directory\n",
    "\n",
    "d = 3\n",
    "A = np.arange(27).reshape(d,d,d); B = np.arange(81).reshape(d,d,d,d)\n",
    "C = np.arange(27).reshape(d,d,d); D = np.arange(9).reshape(d,d)\n",
    "\n",
    "TensorArray = [A,B,C,D]\n",
    "\n",
    "IndexArray = [[1,-2,2],[-1,1,3,4],[5,3,2],[4,5]]\n",
    "\n",
    "E = ncon(TensorArray,IndexArray)\n",
    "\n",
    "######### Using Cytnx\n",
    "\n",
    "Act = cytnx.arange(27).reshape(d,d,d); Bct = cytnx.arange(81).reshape(d,d,d,d)\n",
    "Cct = cytnx.arange(27).reshape(d,d,d); Dct = cytnx.arange(9).reshape(d,d)\n",
    "Act = cyx.CyTensor(Act,2)\n",
    "Act.set_labels([1,-2,2])\n",
    "Bct = cyx.CyTensor(Bct,2)\n",
    "Bct.set_labels([-1,1,3,4])\n",
    "Cct = cyx.CyTensor(Cct,2)\n",
    "Cct.set_labels([5,3,2])\n",
    "Dct = cyx.CyTensor(Dct,2)\n",
    "Dct.set_labels([4,5])\n",
    "\n",
    "# Act.print_diagram()\n",
    "# Bct.print_diagram()\n",
    "# Cct.print_diagram()\n",
    "# Dct.print_diagram()\n",
    "# Result = cyx.Contract(A)\n",
    "\n",
    "Ect = cyx.Contract(cyx.Contract(Act,Bct),cyx.Contract(Cct,Dct))\n",
    "Ect.print_diagram()\n",
    "\n",
    "\n",
    "Ect = Ect.get_block()\n",
    "print(E)\n",
    "print(Ect)\n",
    "print(np.array(Ect)) # Now, Ect == np.array(Ect)\n",
    "Ect = Ect.permute(1,0)\n",
    "Ect = Ect.contiguous()\n",
    "print(Ect) ### But now, Ect != np.array(Ect)\n",
    "print(np.array(Ect))\n",
    "\n",
    "print(E) \n",
    "dE = LA.norm(E.T-Ect) # This will be zero\n",
    "print(dE)\n",
    "\n",
    "print('Ect[1,0].item() - E[1,0] = ', Ect[1,0].item() - E[1,0]) # Even though  Ect[1,0].item() - E[1,0] = 0\n",
    "print(E-Ect) # this one is still not equal to zero matrix\n",
    "print(np.array(Ect) -Ect) # But this is zero"
   ]
  },
  {
   "cell_type": "code",
   "execution_count": 18,
   "metadata": {},
   "outputs": [
    {
     "name": "stdout",
     "output_type": "stream",
     "text": [
      "5.196152422706632\n"
     ]
    },
    {
     "ename": "AttributeError",
     "evalue": "module 'cytnx.cytnx.linalg' has no attribute 'abs'",
     "output_type": "error",
     "traceback": [
      "\u001b[0;31m---------------------------------------------------------------------------\u001b[0m",
      "\u001b[0;31mAttributeError\u001b[0m                            Traceback (most recent call last)",
      "\u001b[0;32m<ipython-input-18-d0f70e1bd5f4>\u001b[0m in \u001b[0;36m<module>\u001b[0;34m\u001b[0m\n\u001b[1;32m      3\u001b[0m \u001b[0mAct\u001b[0m \u001b[0;34m=\u001b[0m \u001b[0mcytnx\u001b[0m\u001b[0;34m.\u001b[0m\u001b[0mfrom_numpy\u001b[0m\u001b[0;34m(\u001b[0m\u001b[0mA\u001b[0m\u001b[0;34m)\u001b[0m\u001b[0;34m\u001b[0m\u001b[0;34m\u001b[0m\u001b[0m\n\u001b[1;32m      4\u001b[0m \u001b[0;31m# print(cytnx.linalg.Norm(Act))\u001b[0m\u001b[0;34m\u001b[0m\u001b[0;34m\u001b[0m\u001b[0;34m\u001b[0m\u001b[0m\n\u001b[0;32m----> 5\u001b[0;31m \u001b[0mprint\u001b[0m\u001b[0;34m(\u001b[0m\u001b[0mcytnx\u001b[0m\u001b[0;34m.\u001b[0m\u001b[0mlinalg\u001b[0m\u001b[0;34m.\u001b[0m\u001b[0mabs\u001b[0m\u001b[0;34m(\u001b[0m\u001b[0mAct\u001b[0m\u001b[0;34m)\u001b[0m\u001b[0;34m)\u001b[0m\u001b[0;34m\u001b[0m\u001b[0;34m\u001b[0m\u001b[0m\n\u001b[0m",
      "\u001b[0;31mAttributeError\u001b[0m: module 'cytnx.cytnx.linalg' has no attribute 'abs'"
     ]
    }
   ],
   "source": [
    "A = np.ones([3,3,3])\n",
    "print(LA.norm(A))\n",
    "Act = cytnx.from_numpy(A)\n",
    "# print(cytnx.linalg.Norm(Act))\n",
    "print(cytnx.linalg.abs(Act))\n"
   ]
  },
  {
   "cell_type": "code",
   "execution_count": null,
   "metadata": {},
   "outputs": [],
   "source": []
  }
 ],
 "metadata": {
  "kernelspec": {
   "display_name": "Python 3",
   "language": "python",
   "name": "python3"
  },
  "language_info": {
   "codemirror_mode": {
    "name": "ipython",
    "version": 3
   },
   "file_extension": ".py",
   "mimetype": "text/x-python",
   "name": "python",
   "nbconvert_exporter": "python",
   "pygments_lexer": "ipython3",
   "version": "3.7.4"
  }
 },
 "nbformat": 4,
 "nbformat_minor": 2
}
