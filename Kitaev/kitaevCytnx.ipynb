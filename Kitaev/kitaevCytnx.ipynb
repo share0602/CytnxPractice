{
 "cells": [
  {
   "cell_type": "code",
   "execution_count": 1,
   "metadata": {},
   "outputs": [],
   "source": [
    "import math\n",
    "import copy\n",
    "import numpy as np\n",
    "from scipy import linalg\n",
    "import constants\n",
    "import honeycomb_expectation\n",
    "\n",
    "from tqdm import tqdm\n",
    "import ctmrg\n",
    "\n",
    "import sys\n",
    "sys.path.append(\"/usr/local/\")\n",
    "import cytnx\n",
    "from cytnx import cytnx_extension as cyx\n",
    "\n",
    "\n",
    "EPS = constants.EPS"
   ]
  },
  {
   "cell_type": "markdown",
   "metadata": {},
   "source": [
    "# Construct Hamiltonain"
   ]
  },
  {
   "cell_type": "code",
   "execution_count": null,
   "metadata": {},
   "outputs": [],
   "source": [
    "def construct_kitaev_hamiltonian(h, spin, k=1.):\n",
    "    \"\"\"Returns list of two-site Hamiltonian in [x, y, z]-direction for Kitaev model\"\"\"\n",
    "\n",
    "    sx, sy, sz, one = constants.get_spin_operators(spin)\n",
    "    hamiltonian = - k * np.array([np.kron(sx, sx), np.kron(sy, sy), np.kron(sz, sz)])\n",
    "    hamiltonian -= h * (np.kron(sx, one) + np.kron(one, sx) +\n",
    "                        np.kron(sy, one) + np.kron(one, sy) +\n",
    "                        np.kron(sz, one) + np.kron(one, sz)) / (3 * math.sqrt(3))\n",
    "    return hamiltonian\n",
    "\n",
    "def constructKitaevHamiltonian(h, spin, k=1.):\n",
    "    sx, sy, sz, one = constants.get_spin_operators\n",
    "    "
   ]
  }
 ],
 "metadata": {
  "kernelspec": {
   "display_name": "Python 3",
   "language": "python",
   "name": "python3"
  },
  "language_info": {
   "codemirror_mode": {
    "name": "ipython",
    "version": 3
   },
   "file_extension": ".py",
   "mimetype": "text/x-python",
   "name": "python",
   "nbconvert_exporter": "python",
   "pygments_lexer": "ipython3",
   "version": "3.7.4"
  }
 },
 "nbformat": 4,
 "nbformat_minor": 2
}
